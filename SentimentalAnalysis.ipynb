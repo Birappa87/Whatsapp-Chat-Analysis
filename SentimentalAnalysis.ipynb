{
 "cells": [
  {
   "cell_type": "markdown",
   "metadata": {},
   "source": [
    "# Sentimental Analysis"
   ]
  },
  {
   "cell_type": "code",
   "execution_count": 2,
   "metadata": {
    "id": "I4PBpWmRLHmY"
   },
   "outputs": [],
   "source": [
    "from textblob import TextBlob\n",
    "import pandas as pd\n",
    "import numpy as np\n",
    "import re\n",
    "import matplotlib.pyplot as plt\n",
    "plt.style.use('fivethirtyeight')"
   ]
  },
  {
   "cell_type": "code",
   "execution_count": 3,
   "metadata": {
    "id": "QYxKNB3bNY8j"
   },
   "outputs": [],
   "source": [
    "df = pd.read_csv('Whatsapp_Chat_Table.csv')\n",
    "df['message'] = df['message'].apply(lambda x: str(x))\n",
    "\n",
    "#Creating a function to get the subjectivity\n",
    "def getSubjectivity(t):\n",
    "  return TextBlob(t).sentiment.subjectivity\n",
    "\n",
    "#Creating a function to get the polarity\n",
    "def getPolarity(t):\n",
    "  return TextBlob(t).sentiment.polarity\n",
    "\n",
    "#Creating new coloumns\n",
    "df['Subjectivity'] = df['message'].apply(getSubjectivity)\n",
    "df['Polarity'] = df['message'].apply(getPolarity)\n",
    "\n"
   ]
  },
  {
   "cell_type": "code",
   "execution_count": 4,
   "metadata": {
    "colab": {
     "base_uri": "https://localhost:8080/",
     "height": 424
    },
    "id": "0s-aS6wuhXsN",
    "outputId": "86fc4883-c807-4395-9500-22ca277d096f"
   },
   "outputs": [
    {
     "data": {
      "text/html": [
       "<div>\n",
       "<style scoped>\n",
       "    .dataframe tbody tr th:only-of-type {\n",
       "        vertical-align: middle;\n",
       "    }\n",
       "\n",
       "    .dataframe tbody tr th {\n",
       "        vertical-align: top;\n",
       "    }\n",
       "\n",
       "    .dataframe thead th {\n",
       "        text-align: right;\n",
       "    }\n",
       "</style>\n",
       "<table border=\"1\" class=\"dataframe\">\n",
       "  <thead>\n",
       "    <tr style=\"text-align: right;\">\n",
       "      <th></th>\n",
       "      <th>Unnamed: 0</th>\n",
       "      <th>date_time</th>\n",
       "      <th>user</th>\n",
       "      <th>message</th>\n",
       "      <th>Subjectivity</th>\n",
       "      <th>Polarity</th>\n",
       "    </tr>\n",
       "  </thead>\n",
       "  <tbody>\n",
       "    <tr>\n",
       "      <th>7601</th>\n",
       "      <td>7601</td>\n",
       "      <td>2020-06-14 17:10:00</td>\n",
       "      <td>Tanay Kamath (TSEC, CS)</td>\n",
       "      <td>videos*</td>\n",
       "      <td>0.0000</td>\n",
       "      <td>0.0</td>\n",
       "    </tr>\n",
       "    <tr>\n",
       "      <th>6416</th>\n",
       "      <td>6416</td>\n",
       "      <td>2020-05-18 21:24:00</td>\n",
       "      <td>Harsh Kapadia (TSEC IT, SE)</td>\n",
       "      <td>Nice compilation though 👍</td>\n",
       "      <td>1.0000</td>\n",
       "      <td>0.6</td>\n",
       "    </tr>\n",
       "    <tr>\n",
       "      <th>8279</th>\n",
       "      <td>8279</td>\n",
       "      <td>2020-06-30 23:45:00</td>\n",
       "      <td>+91 88284 70904</td>\n",
       "      <td>😂</td>\n",
       "      <td>0.0000</td>\n",
       "      <td>0.0</td>\n",
       "    </tr>\n",
       "    <tr>\n",
       "      <th>8252</th>\n",
       "      <td>8252</td>\n",
       "      <td>2020-06-29 21:03:00</td>\n",
       "      <td>+91 97681 67131</td>\n",
       "      <td>😂😂</td>\n",
       "      <td>0.0000</td>\n",
       "      <td>0.0</td>\n",
       "    </tr>\n",
       "    <tr>\n",
       "      <th>7349</th>\n",
       "      <td>7349</td>\n",
       "      <td>2020-06-12 23:06:00</td>\n",
       "      <td>Dheeraj Lalwani (TSEC, CS)</td>\n",
       "      <td>https://youtu.be/oij82Cp9K1A</td>\n",
       "      <td>0.0000</td>\n",
       "      <td>0.0</td>\n",
       "    </tr>\n",
       "    <tr>\n",
       "      <th>...</th>\n",
       "      <td>...</td>\n",
       "      <td>...</td>\n",
       "      <td>...</td>\n",
       "      <td>...</td>\n",
       "      <td>...</td>\n",
       "      <td>...</td>\n",
       "    </tr>\n",
       "    <tr>\n",
       "      <th>8174</th>\n",
       "      <td>8174</td>\n",
       "      <td>2020-06-28 21:36:00</td>\n",
       "      <td>Tanay Kamath (TSEC, CS)</td>\n",
       "      <td>👍👍</td>\n",
       "      <td>0.0000</td>\n",
       "      <td>0.0</td>\n",
       "    </tr>\n",
       "    <tr>\n",
       "      <th>2252</th>\n",
       "      <td>2252</td>\n",
       "      <td>2020-02-27 19:30:00</td>\n",
       "      <td>Tanay Kamath (TSEC, CS)</td>\n",
       "      <td>Haan re ik</td>\n",
       "      <td>0.0000</td>\n",
       "      <td>0.0</td>\n",
       "    </tr>\n",
       "    <tr>\n",
       "      <th>13347</th>\n",
       "      <td>13347</td>\n",
       "      <td>2020-09-29 11:26:00</td>\n",
       "      <td>Tanay Kamath (TSEC, CS)</td>\n",
       "      <td>😂😂</td>\n",
       "      <td>0.0000</td>\n",
       "      <td>0.0</td>\n",
       "    </tr>\n",
       "    <tr>\n",
       "      <th>6258</th>\n",
       "      <td>6258</td>\n",
       "      <td>2020-05-15 11:22:00</td>\n",
       "      <td>Harsh Kapadia (TSEC IT, SE)</td>\n",
       "      <td>3 lines using Flexbox.</td>\n",
       "      <td>0.0000</td>\n",
       "      <td>0.0</td>\n",
       "    </tr>\n",
       "    <tr>\n",
       "      <th>7704</th>\n",
       "      <td>7704</td>\n",
       "      <td>2020-06-16 13:24:00</td>\n",
       "      <td>Dheeraj Lalwani (TSEC, CS)</td>\n",
       "      <td>These are the basic important CSS properties</td>\n",
       "      <td>0.5625</td>\n",
       "      <td>0.2</td>\n",
       "    </tr>\n",
       "  </tbody>\n",
       "</table>\n",
       "<p>100 rows × 6 columns</p>\n",
       "</div>"
      ],
      "text/plain": [
       "       Unnamed: 0            date_time                         user  \\\n",
       "7601         7601  2020-06-14 17:10:00      Tanay Kamath (TSEC, CS)   \n",
       "6416         6416  2020-05-18 21:24:00  Harsh Kapadia (TSEC IT, SE)   \n",
       "8279         8279  2020-06-30 23:45:00              +91 88284 70904   \n",
       "8252         8252  2020-06-29 21:03:00              +91 97681 67131   \n",
       "7349         7349  2020-06-12 23:06:00   Dheeraj Lalwani (TSEC, CS)   \n",
       "...           ...                  ...                          ...   \n",
       "8174         8174  2020-06-28 21:36:00      Tanay Kamath (TSEC, CS)   \n",
       "2252         2252  2020-02-27 19:30:00      Tanay Kamath (TSEC, CS)   \n",
       "13347       13347  2020-09-29 11:26:00      Tanay Kamath (TSEC, CS)   \n",
       "6258         6258  2020-05-15 11:22:00  Harsh Kapadia (TSEC IT, SE)   \n",
       "7704         7704  2020-06-16 13:24:00   Dheeraj Lalwani (TSEC, CS)   \n",
       "\n",
       "                                             message  Subjectivity  Polarity  \n",
       "7601                                        videos*         0.0000       0.0  \n",
       "6416                      Nice compilation though 👍         1.0000       0.6  \n",
       "8279                                              😂         0.0000       0.0  \n",
       "8252                                             😂😂         0.0000       0.0  \n",
       "7349                   https://youtu.be/oij82Cp9K1A         0.0000       0.0  \n",
       "...                                              ...           ...       ...  \n",
       "8174                                             👍👍         0.0000       0.0  \n",
       "2252                                     Haan re ik         0.0000       0.0  \n",
       "13347                                            😂😂         0.0000       0.0  \n",
       "6258                         3 lines using Flexbox.         0.0000       0.0  \n",
       "7704   These are the basic important CSS properties         0.5625       0.2  \n",
       "\n",
       "[100 rows x 6 columns]"
      ]
     },
     "execution_count": 4,
     "metadata": {},
     "output_type": "execute_result"
    }
   ],
   "source": [
    "df.sample(100)"
   ]
  },
  {
   "cell_type": "code",
   "execution_count": 5,
   "metadata": {
    "colab": {
     "base_uri": "https://localhost:8080/",
     "height": 659
    },
    "id": "dpox9D9ZX1hy",
    "outputId": "24d0309c-7e50-4a35-da52-bf0471fa7f98"
   },
   "outputs": [
    {
     "data": {
      "text/html": [
       "<div>\n",
       "<style scoped>\n",
       "    .dataframe tbody tr th:only-of-type {\n",
       "        vertical-align: middle;\n",
       "    }\n",
       "\n",
       "    .dataframe tbody tr th {\n",
       "        vertical-align: top;\n",
       "    }\n",
       "\n",
       "    .dataframe thead th {\n",
       "        text-align: right;\n",
       "    }\n",
       "</style>\n",
       "<table border=\"1\" class=\"dataframe\">\n",
       "  <thead>\n",
       "    <tr style=\"text-align: right;\">\n",
       "      <th></th>\n",
       "      <th>Unnamed: 0</th>\n",
       "      <th>date_time</th>\n",
       "      <th>user</th>\n",
       "      <th>message</th>\n",
       "      <th>Subjectivity</th>\n",
       "      <th>Polarity</th>\n",
       "      <th>Analysis</th>\n",
       "    </tr>\n",
       "  </thead>\n",
       "  <tbody>\n",
       "    <tr>\n",
       "      <th>632</th>\n",
       "      <td>632</td>\n",
       "      <td>2020-02-08 22:30:00</td>\n",
       "      <td>Tanay Kamath (TSEC, CS)</td>\n",
       "      <td>You remember it as 2^no of bits</td>\n",
       "      <td>0.000</td>\n",
       "      <td>0.0</td>\n",
       "      <td>Neutral</td>\n",
       "    </tr>\n",
       "    <tr>\n",
       "      <th>9797</th>\n",
       "      <td>9797</td>\n",
       "      <td>2020-08-13 12:01:00</td>\n",
       "      <td>Harsh Kapadia (TSEC IT, SE)</td>\n",
       "      <td>Elaborate on what details you need Kartikkkk</td>\n",
       "      <td>1.000</td>\n",
       "      <td>0.5</td>\n",
       "      <td>Positive</td>\n",
       "    </tr>\n",
       "    <tr>\n",
       "      <th>9074</th>\n",
       "      <td>9074</td>\n",
       "      <td>2020-07-19 14:04:00</td>\n",
       "      <td>Harsh Kapadia (TSEC IT, SE)</td>\n",
       "      <td>Oh bhai</td>\n",
       "      <td>0.000</td>\n",
       "      <td>0.0</td>\n",
       "      <td>Neutral</td>\n",
       "    </tr>\n",
       "    <tr>\n",
       "      <th>2735</th>\n",
       "      <td>2735</td>\n",
       "      <td>2020-03-07 14:09:00</td>\n",
       "      <td>Pratik K (TSEC CS, SE)</td>\n",
       "      <td>O(N) me ho jayega</td>\n",
       "      <td>0.000</td>\n",
       "      <td>0.0</td>\n",
       "      <td>Neutral</td>\n",
       "    </tr>\n",
       "    <tr>\n",
       "      <th>11946</th>\n",
       "      <td>11946</td>\n",
       "      <td>2020-09-13 14:01:00</td>\n",
       "      <td>+91 82916 21138</td>\n",
       "      <td>DM Kar</td>\n",
       "      <td>0.000</td>\n",
       "      <td>0.0</td>\n",
       "      <td>Neutral</td>\n",
       "    </tr>\n",
       "    <tr>\n",
       "      <th>...</th>\n",
       "      <td>...</td>\n",
       "      <td>...</td>\n",
       "      <td>...</td>\n",
       "      <td>...</td>\n",
       "      <td>...</td>\n",
       "      <td>...</td>\n",
       "      <td>...</td>\n",
       "    </tr>\n",
       "    <tr>\n",
       "      <th>8271</th>\n",
       "      <td>8271</td>\n",
       "      <td>2020-06-29 21:31:00</td>\n",
       "      <td>Tanay Kamath (TSEC, CS)</td>\n",
       "      <td>No the same thing is working for Java7</td>\n",
       "      <td>0.125</td>\n",
       "      <td>0.0</td>\n",
       "      <td>Neutral</td>\n",
       "    </tr>\n",
       "    <tr>\n",
       "      <th>6787</th>\n",
       "      <td>6787</td>\n",
       "      <td>2020-05-28 03:27:00</td>\n",
       "      <td>Kartik Soneji (TSEC, CS)</td>\n",
       "      <td>Do you know about http://htmlpreview.github.io/</td>\n",
       "      <td>0.000</td>\n",
       "      <td>0.0</td>\n",
       "      <td>Neutral</td>\n",
       "    </tr>\n",
       "    <tr>\n",
       "      <th>7568</th>\n",
       "      <td>7568</td>\n",
       "      <td>2020-06-14 09:46:00</td>\n",
       "      <td>Darshan Rander (TSEC, IT)</td>\n",
       "      <td>SBI</td>\n",
       "      <td>0.000</td>\n",
       "      <td>0.0</td>\n",
       "      <td>Neutral</td>\n",
       "    </tr>\n",
       "    <tr>\n",
       "      <th>7754</th>\n",
       "      <td>7754</td>\n",
       "      <td>2020-06-16 14:11:00</td>\n",
       "      <td>Dheeraj Lalwani (TSEC, CS)</td>\n",
       "      <td>Yeah</td>\n",
       "      <td>0.000</td>\n",
       "      <td>0.0</td>\n",
       "      <td>Neutral</td>\n",
       "    </tr>\n",
       "    <tr>\n",
       "      <th>180</th>\n",
       "      <td>180</td>\n",
       "      <td>2020-01-27 22:44:00</td>\n",
       "      <td>Dheeraj Lalwani (TSEC, CS)</td>\n",
       "      <td>Guys...  Need your opinion   Should we conside...</td>\n",
       "      <td>0.500</td>\n",
       "      <td>0.5</td>\n",
       "      <td>Positive</td>\n",
       "    </tr>\n",
       "  </tbody>\n",
       "</table>\n",
       "<p>100 rows × 7 columns</p>\n",
       "</div>"
      ],
      "text/plain": [
       "       Unnamed: 0            date_time                         user  \\\n",
       "632           632  2020-02-08 22:30:00      Tanay Kamath (TSEC, CS)   \n",
       "9797         9797  2020-08-13 12:01:00  Harsh Kapadia (TSEC IT, SE)   \n",
       "9074         9074  2020-07-19 14:04:00  Harsh Kapadia (TSEC IT, SE)   \n",
       "2735         2735  2020-03-07 14:09:00       Pratik K (TSEC CS, SE)   \n",
       "11946       11946  2020-09-13 14:01:00              +91 82916 21138   \n",
       "...           ...                  ...                          ...   \n",
       "8271         8271  2020-06-29 21:31:00      Tanay Kamath (TSEC, CS)   \n",
       "6787         6787  2020-05-28 03:27:00     Kartik Soneji (TSEC, CS)   \n",
       "7568         7568  2020-06-14 09:46:00    Darshan Rander (TSEC, IT)   \n",
       "7754         7754  2020-06-16 14:11:00   Dheeraj Lalwani (TSEC, CS)   \n",
       "180           180  2020-01-27 22:44:00   Dheeraj Lalwani (TSEC, CS)   \n",
       "\n",
       "                                                 message  Subjectivity  \\\n",
       "632                     You remember it as 2^no of bits          0.000   \n",
       "9797       Elaborate on what details you need Kartikkkk          1.000   \n",
       "9074                                            Oh bhai          0.000   \n",
       "2735                                  O(N) me ho jayega          0.000   \n",
       "11946                                            DM Kar          0.000   \n",
       "...                                                  ...           ...   \n",
       "8271             No the same thing is working for Java7          0.125   \n",
       "6787    Do you know about http://htmlpreview.github.io/          0.000   \n",
       "7568                                                SBI          0.000   \n",
       "7754                                               Yeah          0.000   \n",
       "180    Guys...  Need your opinion   Should we conside...         0.500   \n",
       "\n",
       "       Polarity  Analysis  \n",
       "632         0.0   Neutral  \n",
       "9797        0.5  Positive  \n",
       "9074        0.0   Neutral  \n",
       "2735        0.0   Neutral  \n",
       "11946       0.0   Neutral  \n",
       "...         ...       ...  \n",
       "8271        0.0   Neutral  \n",
       "6787        0.0   Neutral  \n",
       "7568        0.0   Neutral  \n",
       "7754        0.0   Neutral  \n",
       "180         0.5  Positive  \n",
       "\n",
       "[100 rows x 7 columns]"
      ]
     },
     "execution_count": 5,
     "metadata": {},
     "output_type": "execute_result"
    }
   ],
   "source": [
    "#Check positive,negetive or neutral chats\n",
    "def getAnalysis(score):\n",
    "  if(score < 0):\n",
    "    return 'Negetive'\n",
    "  elif(score == 0):\n",
    "    return 'Neutral'\n",
    "  else:\n",
    "    return 'Positive'\n",
    "\n",
    "df['Analysis'] = df['Polarity'].apply(getAnalysis)\n",
    "\n",
    "df.sample(100)"
   ]
  },
  {
   "cell_type": "code",
   "execution_count": 6,
   "metadata": {
    "colab": {
     "base_uri": "https://localhost:8080/"
    },
    "id": "k6pgrfoOBbjj",
    "outputId": "8cc9e529-7e48-43cb-b38c-f4467ae0e8d1"
   },
   "outputs": [
    {
     "name": "stdout",
     "output_type": "stream",
     "text": [
      "1)  Messages and calls are end-to-end encrypted. No one outside of this chat, not even WhatsApp, can read or listen to them. Tap to learn more. \n",
      "2)  Sure \n",
      "3)  More of logic or algo problems^ \n",
      "4)  Nice idea 🤟 \n",
      "5)  Also  Please note  People genuinely interested in coding or Want to start coding only be in this group \n",
      "6)  Are you really thinking of just  printing the pattern😂 \n",
      "7)  Cool \n",
      "8)  Alright  Actually, I was being lazy  Thoda syntax strong nahi hai😅😂 \n",
      "9)  Thanks bhai \n",
      "10)  int main() {   int n;   cin>>n;   for (int i=1;i<=n;i++){       for(int j=1;j<=n+1-i;j++){           cout<<\"*\";       }       for (int k=1;k<=2*i-2;k++){           cout<<\" \";       }       for(int j=1;j<=n+1-i;j++){           cout<<\"*\";       }cout<<endl;   }   for(int i=1;i<=n;i++){       for(int j=1;j<=i;j++){           cout<<\"*\";       }       for(int k=1;k<=2*(n-i);k++){           cout<<\" \";           }           for (int j=1;j<=i;j++){               cout<<\"*\";           }cout<<endl;   } \n",
      "11)  Great !! Good use of if else ... \n",
      "12)  Thanks \n",
      "13)  Actually great \n",
      "14)  Yes true \n",
      "15)  #include <conio.h> #include <stdio.h>  void main() {     int i, j, l;     l = 5;      for (i = 0; i < 5; i++)     {         for (j = 0; j < l; j++)         {             printf(\"* \");         }          for (j = 0; j < 4 * i; j++)         {             printf(\" \");         }          for (j = 0; j < l; j++)         {             printf(\"* \");         }          l--;          printf(\"\\n\");     }      l = 0;      for (i = 0; i < 5; i++)     {         for (j = l; j >= 0; j--)         {             printf(\"* \");         }          for (j = 4 * (5 - i) - 4; j > 0; j--)         {             printf(\" \");         }          for (j = l; j >= 0; j--)         {             printf(\"* \");         }          l++;          printf(\"\\n\");     } } \n",
      "16)  Your code is static  bro ... there must be an  input ... \n",
      "17)  Guys...  Need your opinion   Should we consider complexity analysis at  this stage where most of us are beginners?  Reply with \"✅\" for yes  And \"❌\" for no \n",
      "18)  Actually haa re but i thought ki sirf normal wala he karte hai \n",
      "19)  Why have you used so many variables \n",
      "20)  Guys...I am sure most of you are damn awesome coders but if you can solve the problem with basic level first , i am sure it will be helpful for people like me who has a very little knowledge of codings! Thanks anyway! \n",
      "21)  Guys rather than spending pictures send doc or direct code here \n",
      "22)  Hence this is the most appropriate \n",
      "23)  Dude practice as much problems as possible \n",
      "24)  We are here to be better and better in coding \n",
      "25)  Yes this one it is, thanks \n",
      "26)  # include <stdio.h> void main() {     for(int i=5; i>=-5; i--)     {         int t=abs(i);          for(int j=1; j<=t; j++)         printf(\"*\");          for(int j=1; j<=(5-t)*2; j++)         printf(\" \");          for(int j=t+1; j<=2*t ;j++)         printf(\"*\");          printf(\"\\n\");     } } \n",
      "27)  Nice approach \n",
      "28)  What will be the output of the C program by considering 'b' as a User input?  #include<stdio.h> int main() { \tint i = 1, j = 1; \tfor(--i && j++ ; i<10; i+=2) \t{ \t\tprintf(\"loop \"); \t} \treturn 0; } \n",
      "29)  More than 2 test conditions🤨 \n",
      "30)  both the condition must be satisfied simultaneously ....so it cannot go beyond 5 bro..... \n",
      "31)  Learned something new \n",
      "32)  But I think the first statement in the for loop i.e(Before semi-colon)is for intialization ?? \n",
      "33)  Are u sure? \n",
      "34)  Ok \n",
      "35)  Assuming you're not supposed to used in built sort functions right? \n",
      "36)  Because if you reverse it. Write k first and then i \n",
      "37)  Can you send the complete code? What is in the second printf? \n",
      "38)  The condition of k becomes true and therefore it enters the loop. From 2 to 20 with a gap of 2. Therefore it enters 10 times and i gets printed instead from 1-10 \n",
      "39)  So conclusion is If there are multiple conditions in a single ' for loop' then even if one statement is satisfied then loop will run for that condition. \n",
      "40)  Yes. It's like any one of these conditions should be true. It's like using \"OR\". And not \"AND\". \n",
      "41)  Guys  One more thing   We've gotta manage our academics also along with coding   I know pointers don't matter much  But getting a decent pointer is important.....  If you all can  You'll should allocate specific time for coding....  And plan day accordingly \n",
      "42)  int main() {     int n;     cin>>n;     int a[n];     for(int i=0;i<n;i++){         cin>>a[i];     }     int flag=0;     for(int i=0;i<n;i++){         if(a[i]==1){             flag++;              }     }      for(int i=0;i<flag;i++){         a[i]=1;     }      for(int i=flag;i<n;i++){          a[i]=0;      }     for(int i=0;i<n;i++){         cout<<a[i];     }      return 0; } \n",
      "43)  int n;    cin>>n;    int orgn=n;  //storing the original number      int sqr=n*n;  //square of the number    int digits=0;  //length of the number entered    while(n>0){        n=n/10;        digits++;    }    int ten=1;     //deciding the multiple of 10    for(int i=1;i<=digits;i++){        ten=ten*10;    }    int num=sqr%ten;           if(num==orgn){        cout<<\"the number is automorphic\";    }else{        cout<<\"not an automorphic number\";    } \n",
      "44)  lol its automorphic my bad i have written autophoric😂😂 \n",
      "45)  Your logic is very complex,just check if it does run on a compiler \n",
      "46)  #include <conio.h> #include <stdio.h>  int main() {     int no, sq, i, k, count, lastsq, ten;      count = 0;      for (no = 0; no <= 100; no++)     {         lastsq = 0;         sq = no * no;         k = no;         count = 0;         ten = 1;          while (k > 0)         {             count++;             k = k / 10;         }          for (i = 0; i < count; i++)         {             ten = ten * 10;         }          lastsq = sq % ten;          if (lastsq == no)         {             printf(\"%d\\n\", no);         }     }      return 0; } \n",
      "47)  matlab u have to declare a separate variable first like int x=pow(10,digits); num==sqr%x; \n",
      "48)  Haa bus perfect \n",
      "49)  Ha because pow( ) gives u float value and modulus operator takes an integer at its right side so just write (int) before pow( ) \n",
      "50)  accha.... thanks for sharing👍🏻 \n",
      "51)  What was the statement exactly? \n",
      "52)  This is because 52 (i.e. 25) might be stored as 24.9999999 or 25.0000000001 because the return type is double. When assigned to int, 25.0000000001 becomes 25 but 24.9999999 will give output 24. To overcome this and output the accurate answer in integer format, we can add 0.5 to the result and typecast it to int e.g (int)(pow(5, 2)+0.5) will give the correct answer(25, in above example), irrespective of the compiler. \n",
      "53)  nice \n",
      "54)  Ok \n",
      "55)  yea u are right mostly \n",
      "56)  for 24.9999999 when you typecast it into int then it will be roundoff to 24 but if you add 0.5 you will be safe even if it's 25.000000001 \n",
      "57)  Nice  Dont even hv to count the digits!! \n",
      "58)  Cool \n",
      "59)  Wow \n",
      "60)  getch is not part of the std library and is more turbo c++ specific tbh Not really sure but there is a difference between getch and cin.get() \n",
      "61)  Superb logic👍 \n",
      "62)  Otherwise logic is excellent \n",
      "63)  Break is a really really common statement and is present in all programs Sir might've said cause turbo C might not be able to handle it \n",
      "64)  This is Visual Studio It's way more powerful than turbo c \n",
      "65)  It was a normal text editor. And we used terminal for execution. \n",
      "66)  Let's say this is true then you could use the same logic and instead of writing it in main(),  make a separate function which just returned a Boolean and in the if statement replace break with return false and return true if the entire loop executes  And in main just call the function with the user input int \n",
      "67)  Thanks \n",
      "68)  This is an amazing problem \n",
      "69)  int main(){     int n;     cin>>n;     string s;     cin>>s;     int v,sealvl=0;     for (int i=0;i<n;i++){         if(s[i]=='U'){             sealvl++;         }else{             sealvl--;         }if (s[i]=='U'&&sealvl==0){             v++;         }     }  cout<<v; return 0; } \n",
      "70)  The \"&&\" condition in the second if was very important \n",
      "71)  Thanks to @918247578176 \n",
      "72)  Yes bro ...That was the trick in the whole plot \n",
      "73)  #include <stdio.h> #include <string.h>  void main() { \tint n, sealev = 0, vall = 0;  \tchar terrain[100];  \tprintf(\"Enter the no of hike:\"); \tscanf(\"%d\", &n);  \tprintf(\"\\nEnter the terrain:\"); \tscanf(\"%s\", terrain);  \t//printf(\"%d\",strlen(terrain));  \tif (strlen(terrain) == n) \t{ \t\tfor (int i = 0; i < strlen(terrain); i++) \t\t{ \t\t\tif ((terrain[i] == 'U' || terrain[i] == 'u') && (terrain[i] != 'D' || terrain[i] == 'd')) \t\t\t{ \t\t\t\tsealev++; \t\t\t} \t\t\telse \t\t\t{ \t\t\t\tsealev--; \t\t\t}  \t\t\tif (sealev == 0&&(terrain[i]=='U' || terrain[i]=='u')) \t\t\t\tvall++; \t\t}  \t\tprintf(\"\\nNo of valleys=%d\", vall); \t}  \telse \t\tprintf(\"\\inpt err\"); } \n",
      "74)  #include <stdio.h> #include <string.h>  void main() { \tint n, sealev = 0, vall = 0; \tchar terrain[1000000];  \tprintf(\"Enter the no of hike:\"); \tscanf(\"%d\", &n);  \tprintf(\"\\nEnter the terrain:\"); \tscanf(\"%s\", terrain);  \t//printf(\"%d\",strlen(terrain));  \tif (strlen(terrain) == n) \t{ \t\tfor (int i = 0; i < strlen(terrain); i++) \t\t{ \t\t\tif (terrain[i] == 'U' && terrain[i] != 'D') \t\t\t{ \t\t\t\tsealev++; \t\t\t} \t\t\telse \t\t\t{ \t\t\t\tsealev--; \t\t\t}  \t\t\tif (sealev == 0 && terrain[i] == 'U') \t\t\t\tvall++; \t\t}  \t\tprintf(\"\\nNo of valleys=%d\", vall); \t}  \telse \t\tprintf(\"\\inpt err\"); } \n",
      "75)  ok now ig \n",
      "76)  If possible can anyone of you point out the logical mistake I made in this code? \n",
      "77)  the first integer is the number of  test cases \n",
      "78)  #include<stdio.h> #include<math.h> #include<stdlib.h> int fact(int); int main() {     int n;     scanf(\"%d\",&n);     int t[n],h[n];     int i;     for(i=0;i<n;i++)     {         scanf(\"%d\",&t[i]);     }     printf(\"\\n\");      for(i=0;i<n;i++)     {         if(t[i]>=2)         {          h[i]=((fact(n))/(fact(n-2)*2));         }         else         {             h[i]=0;         }     }       for(i=0;i<n;i++)      {         printf(\"%d\",h[i]);          {              printf(\"\\n\");          }      }      return 0; } int fact(int no) {     int i=1,fact=1;     if (no==0)     {   return fact;     }     else {     for(i=1;i<=no;i++)     {         fact*=i;     }     return fact;     } } \n",
      "79)  No of handshakes i got should be right since I used combinations \n",
      "80)  #include<stdio.h> #include<math.h> #include<stdlib.h> int fact(int); int main() {     int n;     scanf(\"%d\",&n);     int t[n],h[n];     int i;     for(i=0;i<n;i++)     {         scanf(\"%d\",&t[i]);     }     for(i=0;i<n;i++)     {         if(t[i]>=2)         {          h[i]=((fact(n))/(fact(n-2)*2));         }         else         {             h[i]=0;         }     }       for(i=0;i<n;i++)      {         printf(\"%d\",h[i]);          {              printf(\"\\n\");          }      }      return 0; } int fact(int no) {     int i=1,fact=1;     if (no==0)     {   return fact;     }     else {     for(i=1;i<=no;i++)     {         fact*=i;     }     return fact;     } } \n",
      "81)  For those students who want to start right from the scratch \n",
      "82)  Thanks \n",
      "83)  #include<stdio.h> void main() {int l1,v1,l2,v2,jmps1=0,jmps2=0; /*l1 l2 =location */ /*v1 v2 are velocities */ printf(\"Enter the location and speed of first and second kangaroo resp\"); scanf(\"%d%d%d%d\",&l1,&v1,&l2,&v2);  if(v2>v1)/*if v2 >v1 first kangaroo wont copeup*/ {printf(\"\\nNO\"); }  else { \twhile(l1<l2) \t{ \t \tl1=l1+v1; \tl2=l2+v2; \t//printf(\"\\nl1=%d\\nl2=%d\",l1,l2); \tjmps1++; \tjmps2++;  \t} \t\tif(l1==l2 && jmps1==jmps2){printf(\"\\nYES jmps1=%d jmps2=%d\",jmps1,jmps2);} \t\telse {printf(\"\\NO\");} } \t } \n",
      "84)  bro can u give some more test cases🤔 \n",
      "85)  Exactly. So %d will come last. \n",
      "86)  Exactly \n",
      "87)  Oh got it thanks \n",
      "88)  Yeah it runs just fine \n",
      "89)  Thanks saket \n",
      "90)  Freelance writers and developers who want to work on natural language processing as well as a ecommerce website here is a chance for u.....my team is abt to start a startup project and if ur intersted dm to 7700027264 . \n",
      "91)  I mean even if i remove the semicolon after while. It should give me 1 to 10 numbers. Right?! \n",
      "92)  Send the whole pic \n",
      "93)  This gives a right side waala triangle \n",
      "94)  #include <stdio.h>  void main() { \tint n; \tscanf(\"%d\", &n); \tfor (int i = 1; i <= n; i++) \t{ \t\tfor (int j = n-1; j >= i; j--) \t\t\tprintf(\" \"); \t\t\t \t\tfor (int j = 1; j <= i; j++) \t\t\tprintf(\"1\");  \t  \t\tprintf(\"\\n\"); \t} } \n",
      "95)  Thanks \n",
      "96)  I don't know much but in earlier versions of computers,code for the OS had to be written after powering it on bcoz the memory was volatile(memory was lost as soon as power was off) \n",
      "97)  Ok \n",
      "98)  thanks tho \n",
      "99)  void main() \n",
      "100)  It'll be awesome if u shared your journey \n"
     ]
    }
   ],
   "source": [
    "#Print all positive chats\n",
    "sortedDF = df.sort_values(by = ['Polarity'])\n",
    "j=1\n",
    "for i in range(0,sortedDF.shape[0]):\n",
    "  if(sortedDF['Analysis'][i] == 'Positive'):\n",
    "    print(f'{j}) ',sortedDF['message'][i])\n",
    "    j+=1\n",
    "    if(j > 100):\n",
    "      break"
   ]
  },
  {
   "cell_type": "code",
   "execution_count": 7,
   "metadata": {
    "colab": {
     "base_uri": "https://localhost:8080/"
    },
    "id": "LyKuRCmdExkV",
    "outputId": "63ef2e96-cfc9-463e-bbf6-39fd86540598"
   },
   "outputs": [
    {
     "name": "stdout",
     "output_type": "stream",
     "text": [
      "1)  Everyday a new challenge \n",
      "2)  Something or the other  So that we can build our problem solving skills \n",
      "3)  Dheeraj Lalwani (TSEC, CS) changed the subject from \"CODERS👨‍💻👩‍💻🖥💻\" to \"TSEC CODERS👨‍💻👩‍💻🖥💻\" \n",
      "4)  What would be the solution if the language is C ??  I mean we are learning so let's try going for it \n",
      "5)  I got a bit confused... \n",
      "6)  Created Another soln bcoz my previous wasn giving problems(not printing spaces) \n",
      "7)  This'll also do for that hollow diamond prog in c \n",
      "8)  Bcoz its a wrong program \n",
      "9)  Comma operator a small and imp note \n",
      "10)  Haan sorry \n",
      "11)  I will dry run it later \n",
      "12)  infact mere hisaab se undeclared indentifier ka error bhi pop up hona chaiye tha but run horaha hai🤯🤯 \n",
      "13)  If you put the double in a variable and then store it in other variable after typescasting then it works! Like, x=pow(...); y=(int)x; \n",
      "14)  darshan sir told us to avoid statements like break if possible since it causes halt in the flow of the program abruptly and causes voltage fluctuations  (just telling this to you),so just keep that in mind \n",
      "15)  It was some other editor \n",
      "16)  Took a long time to figure out \n",
      "17)  In the sample input what does the first 2 mean?, \n",
      "18)  What does that  mean?I mean I'm not getting it clear ? \n",
      "19)  no its not working for any other test cases... \n",
      "20)  And what is the expected o/p \n",
      "21)  Try this,I deleted an extra empty line \n",
      "22)  I tried this with custom input and all of it is correct but some hidden test cases are failing🙁 \n",
      "23)  check for this then ill try to write a function for the same \n",
      "24)  You h'v scanned %c for age and %d for sex which is wrong \n",
      "25)  #include <iostream> using namespace std;  int main() { \tint n, m, supplyDrops = 0; \tcin >> n >> m; \tsupplyDrops = (n + n % 2)*(m + m % 2) / 4; \tcout << supplyDrops; \tcin.get(); } \n",
      "26)  I tried running it with the colon and semi colon.  I am using a phone but other programs i get a legit output \n",
      "27)  As far as I know signed int data type has a range of -32767 to 32767. After i becomes 32767 it will not be incremented to 32768 rather it will jump on the extreme left of the assigned range that is -32767 and hence the loop continues ... \n",
      "28)  4 bytes on some other \n",
      "29)  I mean c isn't platform independent \n",
      "30)  Sorry 2^no of bits-1 for unsigned \n",
      "31)  What’s wrong? \n",
      "32)  nooo  just curious \n",
      "33)  Ohk sorry \n",
      "34)  Code chef is way more professional than hacker rank ... \n",
      "35)  Aisa mat bol He'll shy away \n",
      "36)  @918247578176  we seriously need some help That's why we are asking \n",
      "37)  This should be same our usual factorial program \n",
      "38)  The multiplication logic is gonna be damm difficult \n",
      "39)  That question is shit @918451904417 \n",
      "40)  I'm sorry just irritated kyunki logic ko likh nai paa Raha :( \n",
      "41)  Ill send example \n",
      "42)  Sorry my bad \n",
      "43)  Compared to the previous question \n",
      "44)  for if user enters other than 1-4 (not recommended tho) \n",
      "45)  bcuz i knew hate was incoming😂😂😂 \n",
      "46)  The logic behind the code is one of the wonders of maths ... \n",
      "47)  so the random characters should just be alphabets ? \n",
      "48)  Do we have to create a function that returns random characters? \n",
      "49)  i guess there in an inbuilt random header file \n",
      "50)  In java there is a random function in math class \n",
      "51)  But we need generate random characters right? \n",
      "52)  Yeah random alphabets \n",
      "53)  N other \n",
      "54)  Even simplest of the programs can mess you up \n",
      "55)  So by the end of this semester i am thinking about forming a group of serious competitive coders \n",
      "56)  Dheeraj Lalwani (TSEC, CS) added Harsh Kapadia (TSEC IT, SE) and +91 77180 82108 \n",
      "57)  From other college or our college?? \n",
      "58)  Yeah man Realized this pretty late \n",
      "59)  I m just gonna focus on the second half of that sentence \n",
      "60)  Sadly \n",
      "61)  Only programming stuff to be discussed here  A humble request \n",
      "62)  Everyday one of us posts a coding challenge \n",
      "63)  Not exactly \n",
      "64)  But the thing is if they learn Python at this stage then they won’t be interested in learning Java at all which might lead to them performing poorly in their practical exam which is gonna affect their pointer \n",
      "65)  registration is closed \n",
      "66)  Unfortunately we have PTs at that time \n",
      "67)  We will get less time \n",
      "68)  I dont remember I rembered only harsh and farhan \n",
      "69)  you will but it'll be same as any other online contest \n",
      "70)  hacker rank has zero contests these days \n",
      "71)  Yeah. looks like it. But not really. \n",
      "72)  Sorry \n",
      "73)  This fails if number of elements is large , say 10^8 \n",
      "74)  Oh this is GOLD, but very difficult to follow. \n",
      "75)  Also, don't just watch the videos.  Do everything side by side and make short notes in your editor itself. They help while revising (if you've not touched the tech for a long time). \n",
      "76)  Ab sorry \n",
      "77)  Or any other mathematical operation \n",
      "78)  I mean if we intend to start from next year \n",
      "79)  output wrong dega \n",
      "80)  You are changing loop variable inside the loop Which is wrong \n",
      "81)  Sorry \n",
      "82)  Wrong he hoga \n",
      "83)  No mine is wrong \n",
      "84)  If mine is wrong Can anyone point out the mistake? \n",
      "85)  What's Wrong in this one? \n",
      "86)  there is never a fixed way of solving a problem \n",
      "87)  My bad \n",
      "88)  We have Harsh Mody (FE IT) here? \n",
      "89)  you can solve at least 2 out of 6 \n",
      "90)  contest starts at 11 am sharp! \n",
      "91)  i find coding in text editor easier than hackerrank or other site Ide...u just upload the local file while submitting \n",
      "92)  Dont do the other way round \n",
      "93)  My code's been queue for a long time \n",
      "94)  what does runtime erro mean \n",
      "95)  I am way too slow \n",
      "96)  how to see the rank \n",
      "97)  and some other way \n",
      "98)  I'm down \n",
      "99)  Sadly felt lazy yesterday :( \n",
      "100)  At least pls keep the mashup every week \n"
     ]
    }
   ],
   "source": [
    "#Print all Negetive chats\n",
    "sortedDF = df.sort_values(by = ['Polarity'],ascending = False)\n",
    "j=1\n",
    "for i in range(0,sortedDF.shape[0]):\n",
    "  if(sortedDF['Analysis'][i] == 'Negetive'):\n",
    "    print(f'{j}) ',sortedDF['message'][i])\n",
    "    j+=1\n",
    "    if(j > 100):\n",
    "      break"
   ]
  },
  {
   "cell_type": "code",
   "execution_count": 8,
   "metadata": {
    "id": "pCeGF-r0E2kd"
   },
   "outputs": [],
   "source": [
    "df2 = df.sample(500)"
   ]
  },
  {
   "cell_type": "code",
   "execution_count": 9,
   "metadata": {
    "colab": {
     "base_uri": "https://localhost:8080/",
     "height": 441
    },
    "id": "vAh2RPzCFbZY",
    "outputId": "e9bdbe7c-92fd-4407-c11b-07b65387cc21"
   },
   "outputs": [
    {
     "data": {
      "image/png": "[encoded data removed]",
      "text/plain": [
       "<Figure size 576x432 with 1 Axes>"
      ]
     },
     "metadata": {
      "needs_background": "light"
     },
     "output_type": "display_data"
    }
   ],
   "source": [
    "df2 = df.head(1000)\n",
    "import matplotlib.pyplot as plt\n",
    "plt.figure(figsize =  (8,6))\n",
    "for i in range(0,df2.shape[0]):\n",
    "  plt.scatter(df2['Polarity'][i],df2['Subjectivity'][i],color = \"Blue\")\n",
    "\n",
    "plt.title('Sentimental analysis')\n",
    "plt.xlabel('Polarity')\n",
    "plt.ylabel('Subjectivity')\n",
    "plt.show()"
   ]
  },
  {
   "cell_type": "code",
   "execution_count": 10,
   "metadata": {
    "id": "zu-zzAhqGPp1"
   },
   "outputs": [],
   "source": [
    "#Counting the sum of polarities\n",
    "sum = 0\n",
    "for i in range(0,df.shape[0]):\n",
    "    sum += df['Polarity'][i]\n",
    "\n",
    "  "
   ]
  },
  {
   "cell_type": "code",
   "execution_count": 11,
   "metadata": {
    "colab": {
     "base_uri": "https://localhost:8080/"
    },
    "id": "48A9EfoRJ0HX",
    "outputId": "04c6cb05-0e35-45a6-e591-eaa727ab992e"
   },
   "outputs": [
    {
     "name": "stdout",
     "output_type": "stream",
     "text": [
      "The ovrall Sentiment in chat is Positive\n"
     ]
    }
   ],
   "source": [
    "if(sum > 0):\n",
    "  print(\"The ovrall Sentiment in chat is Positive\")\n",
    "elif(sum < 0):\n",
    "  print(\"The overall Sentiment in chat is negetive\")"
   ]
  },
  {
   "cell_type": "code",
   "execution_count": 12,
   "metadata": {
    "colab": {
     "base_uri": "https://localhost:8080/"
    },
    "id": "483k1aiZdhz9",
    "outputId": "1b77c6c1-21eb-46f3-cc3b-ca976fed24d8"
   },
   "outputs": [
    {
     "data": {
      "text/plain": [
       "808"
      ]
     },
     "execution_count": 12,
     "metadata": {},
     "output_type": "execute_result"
    }
   ],
   "source": [
    "#Count to get number of Negetive messages\n",
    "NegetiveCount = 0\n",
    "for i in range(0,df.shape[0]):\n",
    "  val = df['Polarity'][i]\n",
    "  if(val < 0):\n",
    "    NegetiveCount += 1\n",
    "\n",
    "NegetiveCount"
   ]
  },
  {
   "cell_type": "code",
   "execution_count": 13,
   "metadata": {
    "colab": {
     "base_uri": "https://localhost:8080/"
    },
    "id": "bVyFuoHvgDmq",
    "outputId": "336b800e-7e6e-4d16-a055-2a55b8bd8e48"
   },
   "outputs": [
    {
     "data": {
      "text/plain": [
       "2465"
      ]
     },
     "execution_count": 13,
     "metadata": {},
     "output_type": "execute_result"
    }
   ],
   "source": [
    "#Count to get number of Positive messages\n",
    "PositiveCount = 0\n",
    "for i in range(0,df.shape[0]):\n",
    "  val = df['Polarity'][i]\n",
    "  if(val > 0):\n",
    "    PositiveCount += 1\n",
    "\n",
    "PositiveCount"
   ]
  },
  {
   "cell_type": "code",
   "execution_count": 20,
   "metadata": {},
   "outputs": [
    {
     "data": {
      "image/png": "[encoded data removed]",
      "text/plain": [
       "<Figure size 432x288 with 1 Axes>"
      ]
     },
     "metadata": {},
     "output_type": "display_data"
    },
    {
     "data": {
      "text/plain": [
       "<Figure size 432x288 with 0 Axes>"
      ]
     },
     "metadata": {},
     "output_type": "display_data"
    }
   ],
   "source": [
    "x = [PositiveCount, NegetiveCount]\n",
    "labels = [\"PositiveCount\", \"NegativeCount\"]\n",
    "my_colors = ['lightblue','lightsteelblue','silver']\n",
    "my_explode = (0, 0.1)\n",
    "plt.pie(x = x, labels = legends, autopct ='%1.1f%%', explode = my_explode, shadow= True, startangle=15)\n",
    "plt.title(\"Positive VS Negative Polarity\")\n",
    "plt.show()\n",
    "plt.savefig('Insights/Pos_VS_Neg_Count.png', format = 'png')"
   ]
  },
  {
   "cell_type": "code",
   "execution_count": null,
   "metadata": {},
   "outputs": [],
   "source": []
  },
  {
   "cell_type": "code",
   "execution_count": null,
   "metadata": {},
   "outputs": [],
   "source": []
  }
 ],
 "metadata": {
  "colab": {
   "authorship_tag": "ABX9TyNEYHSNlTTng16MhyOch5im",
   "collapsed_sections": [],
   "include_colab_link": true,
   "name": "Untitled1.ipynb",
   "provenance": []
  },
  "kernelspec": {
   "display_name": "Python 3 (ipykernel)",
   "language": "python",
   "name": "python3"
  },
  "language_info": {
   "codemirror_mode": {
    "name": "ipython",
    "version": 3
   },
   "file_extension": ".py",
   "mimetype": "text/x-python",
   "name": "python",
   "nbconvert_exporter": "python",
   "pygments_lexer": "ipython3",
   "version": "3.10.5"
  }
 },
 "nbformat": 4,
 "nbformat_minor": 1
}
