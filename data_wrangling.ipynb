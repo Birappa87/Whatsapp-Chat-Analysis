{
 "cells": [
  {
   "cell_type": "markdown",
   "metadata": {},
   "source": [
    "# Dataset Extraction"
   ]
  },
  {
   "cell_type": "markdown",
   "metadata": {},
   "source": [
    "Importing the required libraries"
   ]
  },
  {
   "cell_type": "code",
   "execution_count": 1,
   "metadata": {},
   "outputs": [],
   "source": [
    "import re\n",
    "import pandas as pd"
   ]
  },
  {
   "cell_type": "markdown",
   "metadata": {},
   "source": [
    "Checking each line if it starts with date and time to identify each unique message in the text file"
   ]
  },
  {
   "cell_type": "code",
   "execution_count": 2,
   "metadata": {},
   "outputs": [],
   "source": [
    "def rawToDf(file, key):\n",
    "#     Converts raw .txt file into a Data Frame\n",
    "    \n",
    "    split_formats = {\n",
    "        '12hr' : '\\d{1,2}/\\d{1,2}/\\d{2,4},\\s\\d{1,2}:\\d{2}\\s[APap][mM]\\s-\\s',\n",
    "        '24hr' : '\\d{1,2}/\\d{1,2}/\\d{2,4},\\s\\d{1,2}:\\d{2}\\s-\\s',\n",
    "        'custom' : ''\n",
    "    }\n",
    "    datetime_formats = {\n",
    "        '12hr' : '%d/%m/%Y, %I:%M %p - ',\n",
    "        '24hr' : '%d/%m/%Y, %H:%M - ',\n",
    "        'custom': ''\n",
    "    }\n",
    "    \n",
    "    with open(file, 'r', encoding='utf-8') as raw_data:\n",
    "        # print(raw_data.read())\n",
    "        raw_string = ' '.join(raw_data.read().split('\\n')) # converting the list split by newline char. as one whole string as there can be multi-line messages\n",
    "        user_msg = re.split(split_formats[key], raw_string) [1:] # splits at all the date-time pattern, resulting in list of all the messages with user names\n",
    "        date_time = re.findall(split_formats[key], raw_string) # finds all the date-time patterns\n",
    "        \n",
    "        df = pd.DataFrame({'date_time': date_time, 'user_msg': user_msg}) # exporting it to a df\n",
    "        \n",
    "    # converting date-time pattern which is of type String to type datetime,\n",
    "    # format is to be specified for the whole string where the placeholders are extracted by the method \n",
    "    df['date_time'] = pd.to_datetime(df['date_time'], format=datetime_formats[key])\n",
    "    \n",
    "    # split user and msg \n",
    "    usernames = []\n",
    "    msgs = []\n",
    "    for i in df['user_msg']:\n",
    "        a = re.split('([\\w\\W]+?):\\s', i) # lazy pattern match to first {user_name}: pattern and spliting it aka each msg from a user\n",
    "        if(a[1:]): # user typed messages\n",
    "            usernames.append(a[1])\n",
    "            msgs.append(a[2])\n",
    "        else: # other notifications in the group(eg: someone was added, some left ...)\n",
    "            usernames.append(\"group_notification\")\n",
    "            msgs.append(a[0])\n",
    "            \n",
    "    \n",
    "    # creating new columns         \n",
    "    df['user'] = usernames\n",
    "    df['message'] = msgs\n",
    "\n",
    "    # dropping the old user_msg col.\n",
    "    df.drop('user_msg', axis=1, inplace=True)\n",
    "    \n",
    "    return df"
   ]
  },
  {
   "cell_type": "code",
   "execution_count": 3,
   "metadata": {},
   "outputs": [],
   "source": [
    "df = rawToDf('chat.txt', '12hr')"
   ]
  },
  {
   "cell_type": "code",
   "execution_count": 4,
   "metadata": {},
   "outputs": [
    {
     "data": {
      "text/html": [
       "<div>\n",
       "<style scoped>\n",
       "    .dataframe tbody tr th:only-of-type {\n",
       "        vertical-align: middle;\n",
       "    }\n",
       "\n",
       "    .dataframe tbody tr th {\n",
       "        vertical-align: top;\n",
       "    }\n",
       "\n",
       "    .dataframe thead th {\n",
       "        text-align: right;\n",
       "    }\n",
       "</style>\n",
       "<table border=\"1\" class=\"dataframe\">\n",
       "  <thead>\n",
       "    <tr style=\"text-align: right;\">\n",
       "      <th></th>\n",
       "      <th>date_time</th>\n",
       "      <th>user</th>\n",
       "      <th>message</th>\n",
       "    </tr>\n",
       "  </thead>\n",
       "  <tbody>\n",
       "    <tr>\n",
       "      <th>0</th>\n",
       "      <td>2020-01-26 16:19:00</td>\n",
       "      <td>group_notification</td>\n",
       "      <td>Messages and calls are end-to-end encrypted. N...</td>\n",
       "    </tr>\n",
       "    <tr>\n",
       "      <th>1</th>\n",
       "      <td>2020-01-24 20:25:00</td>\n",
       "      <td>group_notification</td>\n",
       "      <td>Tanay Kamath (TSEC, CS) created group \"CODERS👨...</td>\n",
       "    </tr>\n",
       "    <tr>\n",
       "      <th>2</th>\n",
       "      <td>2020-01-26 16:19:00</td>\n",
       "      <td>group_notification</td>\n",
       "      <td>You joined using this group's invite link</td>\n",
       "    </tr>\n",
       "    <tr>\n",
       "      <th>3</th>\n",
       "      <td>2020-01-26 16:20:00</td>\n",
       "      <td>group_notification</td>\n",
       "      <td>+91 99871 38558 joined using this group's invi...</td>\n",
       "    </tr>\n",
       "    <tr>\n",
       "      <th>4</th>\n",
       "      <td>2020-01-26 16:20:00</td>\n",
       "      <td>group_notification</td>\n",
       "      <td>+91 91680 38866 joined using this group's invi...</td>\n",
       "    </tr>\n",
       "  </tbody>\n",
       "</table>\n",
       "</div>"
      ],
      "text/plain": [
       "            date_time                user  \\\n",
       "0 2020-01-26 16:19:00  group_notification   \n",
       "1 2020-01-24 20:25:00  group_notification   \n",
       "2 2020-01-26 16:19:00  group_notification   \n",
       "3 2020-01-26 16:20:00  group_notification   \n",
       "4 2020-01-26 16:20:00  group_notification   \n",
       "\n",
       "                                             message  \n",
       "0  Messages and calls are end-to-end encrypted. N...  \n",
       "1  Tanay Kamath (TSEC, CS) created group \"CODERS👨...  \n",
       "2         You joined using this group's invite link   \n",
       "3  +91 99871 38558 joined using this group's invi...  \n",
       "4  +91 91680 38866 joined using this group's invi...  "
      ]
     },
     "execution_count": 4,
     "metadata": {},
     "output_type": "execute_result"
    }
   ],
   "source": [
    "df.head()"
   ]
  },
  {
   "cell_type": "code",
   "execution_count": 5,
   "metadata": {},
   "outputs": [
    {
     "data": {
      "text/plain": [
       "array(['group_notification', '+91 96536 93868',\n",
       "       'Dheeraj Lalwani (TSEC, CS)', '+91 99201 75875', '+91 95949 08570',\n",
       "       '+91 79778 76844', '+91 90499 38860', 'Tanay Kamath (TSEC, CS)',\n",
       "       'Saket (TSEC, CS)', '+91 77568 95072', 'Rohit Pathak (TSEC, CS)',\n",
       "       '+91 75078 05454', 'Darshan Rander (TSEC, IT)', '+91 79774 68083',\n",
       "       '+91 70394 60876', '+91 96191 55044', '+91 90678 93300',\n",
       "       'Mohit Varma (TSEC, CS)', '+91 79770 56210',\n",
       "       'Chirag Sharma (TSEC, CS)', 'Vivek Iyer (TSEC, Biomed)',\n",
       "       'Tushar Nankani', '+91 81696 22410', '+91 89764 07509',\n",
       "       '+91 78758 66747', 'Ankit (TSEC, CS)', '+91 86556 33169',\n",
       "       '+91 76663 28147', '+91 88284 70904', '+91 97698 67348',\n",
       "       'Vivek (TSEC, CS)', 'Hardik Raheja (TSEC, CS)', '+91 91680 38866',\n",
       "       'Pranay Thakur (TSEC, CS)', 'Mittul Dasani (TSEC, CS)',\n",
       "       'Kartik Soneji (TSEC, CS)', '+91 77180 43697', '+91 99676 84479',\n",
       "       'Shreya (TSEC, IT)', '+91 96190 16721', '+91 89833 85127',\n",
       "       '+91 82080 02653', '+91 99675 58551', '+91 90822 59476',\n",
       "       'Prithvi Rohira (TSEC, CS)', '+91 90820 98830',\n",
       "       'Mohammed (TSEC, EXTC)', '+91 96992 89993', '+91 83690 21693',\n",
       "       '+91 75064 86714', 'Pratik K (TSEC CS, SE)',\n",
       "       'Farhan Irani (TSEC IT, SE)', '+91 77000 27264',\n",
       "       'Harsh Kapadia (TSEC IT, SE)', 'Saurav Upoor (TSEC CS, SE)',\n",
       "       '+91 77180 82108', '+91 86559 19035', '+91 77150 51136',\n",
       "       '+91 91671 28174', '+91 84335 18102', '+91 84529 62233',\n",
       "       '+91 81080 96759', '+91 77384 72938', '+91 93243 92133',\n",
       "       '+91 97681 67131', '+91 98206 01141', '+91 84540 03063',\n",
       "       '+91 99693 94098', '+91 91363 39446', '+91 98192 22032',\n",
       "       '+91 88305 26885', '+91 70208 31915', '+91 98702 02065',\n",
       "       '+91 88282 22720', '+91 97027 35002', '+91 87796 52381',\n",
       "       '+91 97739 65140', '+91 97571 15289', 'Rishab Saini (TSEC CS, TE)',\n",
       "       '+91 94208 78848', '+91 93598 18687', '+91 73043 57388',\n",
       "       '+91 98331 51331', '+91 80979 84068', '+91 77158 99478',\n",
       "       '+91 79776 23387', '+91 99697 55118', '+91 95119 48511',\n",
       "       '+91 98337 61116', '+91 82916 21138', '+91 88889 97733',\n",
       "       '+91 97697 60869', '+91 99672 39663', '+91 87796 70896',\n",
       "       '+91 98191 73361', '+91 70219 80066', '+91 81696 11905',\n",
       "       '+91 72762 35231', '+91 79775 35465', '+91 97027 04646',\n",
       "       '+91 70450 40641', '+91 99204 26955', '+91 99696 99151',\n",
       "       '+91 98333 66146', '+91 95940 62134', '+91 77189 86205',\n",
       "       '+91 97694 89970', '+91 99302 21772', '+91 77109 79055',\n",
       "       '+91 96648 44643', '+91 98337 47258', 'Keyul Jain (TSEC, CS)',\n",
       "       '+91 98198 16330', '+91 88798 05171', '+91 92842 87810',\n",
       "       '+91 72495 29889', '+91 91677 97590',\n",
       "       'Trushant Narwani (TSEC, CS)', '+91 86528 77025',\n",
       "       '+91 77383 38799', 'Shubham Chettiar (TSEC CS, TE)',\n",
       "       '+91 86059 72817', '+91 83292 66084', '+91 82080 03744',\n",
       "       '+91 98670 44401', '+91 77098 73262', 'Sahil A (TSEC, CS-B)',\n",
       "       '+91 96194 00980', '+91 99304 97064', '+91 77699 70908',\n",
       "       '+91 98337 26449', '+91 97847 88658', '+91 82916 40581',\n",
       "       '+91 91670 43943', '+91 94044 50783', '+91 90821 58843',\n",
       "       '+91 97022 69539', '+91 73036 41107', '+91 88795 52797',\n",
       "       'Akash Khatri (TSEC, CS)', '+91 91525 25452', '+91 79778 03985',\n",
       "       '+91 91725 67828', '+91 98206 14506', '+91 70218 25025',\n",
       "       '+91 94200 70678', '+91 99203 34360', '+91 96374 40537',\n",
       "       '+91 98199 01072', '+91 91673 86883', '+91 73032 50500',\n",
       "       '+91 91362 39673', '+91 98501 32687', 'Kritanjali',\n",
       "       '+91 98709 38217'], dtype=object)"
      ]
     },
     "execution_count": 5,
     "metadata": {},
     "output_type": "execute_result"
    }
   ],
   "source": [
    "# checking out number of unique authors of the messages\n",
    "df['user'].unique()"
   ]
  },
  {
   "cell_type": "code",
   "execution_count": 6,
   "metadata": {},
   "outputs": [
    {
     "data": {
      "text/html": [
       "<div>\n",
       "<style scoped>\n",
       "    .dataframe tbody tr th:only-of-type {\n",
       "        vertical-align: middle;\n",
       "    }\n",
       "\n",
       "    .dataframe tbody tr th {\n",
       "        vertical-align: top;\n",
       "    }\n",
       "\n",
       "    .dataframe thead th {\n",
       "        text-align: right;\n",
       "    }\n",
       "</style>\n",
       "<table border=\"1\" class=\"dataframe\">\n",
       "  <thead>\n",
       "    <tr style=\"text-align: right;\">\n",
       "      <th></th>\n",
       "      <th>date_time</th>\n",
       "      <th>user</th>\n",
       "      <th>message</th>\n",
       "    </tr>\n",
       "  </thead>\n",
       "  <tbody>\n",
       "    <tr>\n",
       "      <th>2884</th>\n",
       "      <td>2020-03-08 21:09:00</td>\n",
       "      <td>Tanay Kamath (TSEC, CS)</td>\n",
       "      <td>Oh</td>\n",
       "    </tr>\n",
       "    <tr>\n",
       "      <th>9768</th>\n",
       "      <td>2020-08-11 22:12:00</td>\n",
       "      <td>Chirag Sharma (TSEC, CS)</td>\n",
       "      <td>Wait I am confused. What I have seen mostly ar...</td>\n",
       "    </tr>\n",
       "    <tr>\n",
       "      <th>1735</th>\n",
       "      <td>2020-02-22 20:22:00</td>\n",
       "      <td>Saurav Upoor (TSEC CS, SE)</td>\n",
       "      <td></td>\n",
       "    </tr>\n",
       "    <tr>\n",
       "      <th>11225</th>\n",
       "      <td>2020-09-03 15:00:00</td>\n",
       "      <td>Harsh Kapadia (TSEC IT, SE)</td>\n",
       "      <td>This message was deleted</td>\n",
       "    </tr>\n",
       "    <tr>\n",
       "      <th>10159</th>\n",
       "      <td>2020-08-20 16:59:00</td>\n",
       "      <td>Pratik K (TSEC CS, SE)</td>\n",
       "      <td>🤣🤣🤣</td>\n",
       "    </tr>\n",
       "    <tr>\n",
       "      <th>782</th>\n",
       "      <td>2020-02-13 12:50:00</td>\n",
       "      <td>group_notification</td>\n",
       "      <td>Saket (TSEC, CS) added +91 90821 58843</td>\n",
       "    </tr>\n",
       "    <tr>\n",
       "      <th>10406</th>\n",
       "      <td>2020-08-24 15:14:00</td>\n",
       "      <td>+91 84335 18102</td>\n",
       "      <td>&lt;Media omitted&gt;</td>\n",
       "    </tr>\n",
       "    <tr>\n",
       "      <th>226</th>\n",
       "      <td>2020-01-28 10:53:00</td>\n",
       "      <td>+91 79770 56210</td>\n",
       "      <td>This'll also do for that hollow diamond prog i...</td>\n",
       "    </tr>\n",
       "    <tr>\n",
       "      <th>403</th>\n",
       "      <td>2020-01-29 22:54:00</td>\n",
       "      <td>Dheeraj Lalwani (TSEC, CS)</td>\n",
       "      <td>😅</td>\n",
       "    </tr>\n",
       "    <tr>\n",
       "      <th>7257</th>\n",
       "      <td>2020-06-10 18:22:00</td>\n",
       "      <td>Darshan Rander (TSEC, IT)</td>\n",
       "      <td>I'm not really good md😅</td>\n",
       "    </tr>\n",
       "  </tbody>\n",
       "</table>\n",
       "</div>"
      ],
      "text/plain": [
       "                date_time                         user  \\\n",
       "2884  2020-03-08 21:09:00      Tanay Kamath (TSEC, CS)   \n",
       "9768  2020-08-11 22:12:00     Chirag Sharma (TSEC, CS)   \n",
       "1735  2020-02-22 20:22:00   Saurav Upoor (TSEC CS, SE)   \n",
       "11225 2020-09-03 15:00:00  Harsh Kapadia (TSEC IT, SE)   \n",
       "10159 2020-08-20 16:59:00       Pratik K (TSEC CS, SE)   \n",
       "782   2020-02-13 12:50:00           group_notification   \n",
       "10406 2020-08-24 15:14:00              +91 84335 18102   \n",
       "226   2020-01-28 10:53:00              +91 79770 56210   \n",
       "403   2020-01-29 22:54:00   Dheeraj Lalwani (TSEC, CS)   \n",
       "7257  2020-06-10 18:22:00    Darshan Rander (TSEC, IT)   \n",
       "\n",
       "                                                 message  \n",
       "2884                                                 Oh   \n",
       "9768   Wait I am confused. What I have seen mostly ar...  \n",
       "1735                                                      \n",
       "11225                          This message was deleted   \n",
       "10159                                               🤣🤣🤣   \n",
       "782              Saket (TSEC, CS) added +91 90821 58843   \n",
       "10406                                   <Media omitted>   \n",
       "226    This'll also do for that hollow diamond prog i...  \n",
       "403                                                   😅   \n",
       "7257                            I'm not really good md😅   "
      ]
     },
     "execution_count": 6,
     "metadata": {},
     "output_type": "execute_result"
    }
   ],
   "source": [
    "# checking out random 10 samples from the dataset\n",
    "df.sample(10)"
   ]
  },
  {
   "cell_type": "code",
   "execution_count": 7,
   "metadata": {},
   "outputs": [
    {
     "data": {
      "text/plain": [
       "date_time    0\n",
       "user         0\n",
       "message      0\n",
       "dtype: int64"
      ]
     },
     "execution_count": 7,
     "metadata": {},
     "output_type": "execute_result"
    }
   ],
   "source": [
    "# checking for null data\n",
    "df.isna().sum()"
   ]
  },
  {
   "cell_type": "markdown",
   "metadata": {},
   "source": [
    "## loading the cleaned dataset into the csv file"
   ]
  },
  {
   "cell_type": "code",
   "execution_count": 8,
   "metadata": {},
   "outputs": [],
   "source": [
    "df.to_csv('Whatsapp_Chat_Table.csv')"
   ]
  },
  {
   "cell_type": "code",
   "execution_count": 9,
   "metadata": {},
   "outputs": [
    {
     "data": {
      "text/html": [
       "<div>\n",
       "<style scoped>\n",
       "    .dataframe tbody tr th:only-of-type {\n",
       "        vertical-align: middle;\n",
       "    }\n",
       "\n",
       "    .dataframe tbody tr th {\n",
       "        vertical-align: top;\n",
       "    }\n",
       "\n",
       "    .dataframe thead th {\n",
       "        text-align: right;\n",
       "    }\n",
       "</style>\n",
       "<table border=\"1\" class=\"dataframe\">\n",
       "  <thead>\n",
       "    <tr style=\"text-align: right;\">\n",
       "      <th></th>\n",
       "      <th>date_time</th>\n",
       "      <th>user</th>\n",
       "      <th>message</th>\n",
       "    </tr>\n",
       "  </thead>\n",
       "  <tbody>\n",
       "    <tr>\n",
       "      <th>0</th>\n",
       "      <td>2020-01-26 16:19:00</td>\n",
       "      <td>group_notification</td>\n",
       "      <td>Messages and calls are end-to-end encrypted. N...</td>\n",
       "    </tr>\n",
       "    <tr>\n",
       "      <th>1</th>\n",
       "      <td>2020-01-24 20:25:00</td>\n",
       "      <td>group_notification</td>\n",
       "      <td>Tanay Kamath (TSEC, CS) created group \"CODERS👨...</td>\n",
       "    </tr>\n",
       "    <tr>\n",
       "      <th>2</th>\n",
       "      <td>2020-01-26 16:19:00</td>\n",
       "      <td>group_notification</td>\n",
       "      <td>You joined using this group's invite link</td>\n",
       "    </tr>\n",
       "    <tr>\n",
       "      <th>3</th>\n",
       "      <td>2020-01-26 16:20:00</td>\n",
       "      <td>group_notification</td>\n",
       "      <td>+91 99871 38558 joined using this group's invi...</td>\n",
       "    </tr>\n",
       "    <tr>\n",
       "      <th>4</th>\n",
       "      <td>2020-01-26 16:20:00</td>\n",
       "      <td>group_notification</td>\n",
       "      <td>+91 91680 38866 joined using this group's invi...</td>\n",
       "    </tr>\n",
       "  </tbody>\n",
       "</table>\n",
       "</div>"
      ],
      "text/plain": [
       "            date_time                user  \\\n",
       "0 2020-01-26 16:19:00  group_notification   \n",
       "1 2020-01-24 20:25:00  group_notification   \n",
       "2 2020-01-26 16:19:00  group_notification   \n",
       "3 2020-01-26 16:20:00  group_notification   \n",
       "4 2020-01-26 16:20:00  group_notification   \n",
       "\n",
       "                                             message  \n",
       "0  Messages and calls are end-to-end encrypted. N...  \n",
       "1  Tanay Kamath (TSEC, CS) created group \"CODERS👨...  \n",
       "2         You joined using this group's invite link   \n",
       "3  +91 99871 38558 joined using this group's invi...  \n",
       "4  +91 91680 38866 joined using this group's invi...  "
      ]
     },
     "execution_count": 9,
     "metadata": {},
     "output_type": "execute_result"
    }
   ],
   "source": [
    "df.head()"
   ]
  },
  {
   "cell_type": "code",
   "execution_count": 10,
   "metadata": {},
   "outputs": [
    {
     "name": "stdout",
     "output_type": "stream",
     "text": [
      "<class 'pandas.core.frame.DataFrame'>\n",
      "RangeIndex: 13655 entries, 0 to 13654\n",
      "Data columns (total 3 columns):\n",
      " #   Column     Non-Null Count  Dtype         \n",
      "---  ------     --------------  -----         \n",
      " 0   date_time  13655 non-null  datetime64[ns]\n",
      " 1   user       13655 non-null  object        \n",
      " 2   message    13655 non-null  object        \n",
      "dtypes: datetime64[ns](1), object(2)\n",
      "memory usage: 320.2+ KB\n"
     ]
    }
   ],
   "source": [
    "df.info()"
   ]
  },
  {
   "cell_type": "code",
   "execution_count": 11,
   "metadata": {},
   "outputs": [],
   "source": [
    "row, col = df.shape"
   ]
  },
  {
   "cell_type": "code",
   "execution_count": 12,
   "metadata": {},
   "outputs": [
    {
     "data": {
      "text/plain": [
       "'No of Rows :13655 and Columns = 3'"
      ]
     },
     "execution_count": 12,
     "metadata": {},
     "output_type": "execute_result"
    }
   ],
   "source": [
    "f\"No of Rows :{row} and Columns = {col}\""
   ]
  },
  {
   "cell_type": "code",
   "execution_count": 13,
   "metadata": {},
   "outputs": [
    {
     "name": "stdout",
     "output_type": "stream",
     "text": [
      "<class 'pandas.core.series.Series'>\n",
      "RangeIndex: 13655 entries, 0 to 13654\n",
      "Series name: date_time\n",
      "Non-Null Count  Dtype         \n",
      "--------------  -----         \n",
      "13655 non-null  datetime64[ns]\n",
      "dtypes: datetime64[ns](1)\n",
      "memory usage: 106.8 KB\n"
     ]
    }
   ],
   "source": [
    "df['date_time'].info()"
   ]
  }
 ],
 "metadata": {
  "kernelspec": {
   "display_name": "Python 3 (ipykernel)",
   "language": "python",
   "name": "python3"
  },
  "language_info": {
   "codemirror_mode": {
    "name": "ipython",
    "version": 3
   },
   "file_extension": ".py",
   "mimetype": "text/x-python",
   "name": "python",
   "nbconvert_exporter": "python",
   "pygments_lexer": "ipython3",
   "version": "3.10.5"
  }
 },
 "nbformat": 4,
 "nbformat_minor": 4
}
